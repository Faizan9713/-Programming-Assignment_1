{
 "cells": [
  {
   "cell_type": "markdown",
   "id": "1db7a9bf",
   "metadata": {},
   "source": [
    "# Q1 = Write a Python program to print &quot;Hello Python&quot;?"
   ]
  },
  {
   "cell_type": "code",
   "execution_count": 1,
   "id": "21c23080",
   "metadata": {},
   "outputs": [],
   "source": [
    " p = \"Hello Python\""
   ]
  },
  {
   "cell_type": "code",
   "execution_count": 3,
   "id": "a004d58e",
   "metadata": {},
   "outputs": [
    {
     "name": "stdout",
     "output_type": "stream",
     "text": [
      "Hello Python\n"
     ]
    }
   ],
   "source": [
    "print(p)"
   ]
  },
  {
   "cell_type": "markdown",
   "id": "b0e3ed5d",
   "metadata": {},
   "source": [
    "\n",
    "# 2. Write a Python program to do arithmetical operations addition and division.?"
   ]
  },
  {
   "cell_type": "code",
   "execution_count": 10,
   "id": "066c19b5",
   "metadata": {},
   "outputs": [
    {
     "name": "stdout",
     "output_type": "stream",
     "text": [
      "enter your first no10\n",
      "enter your second no10\n",
      "20.0\n"
     ]
    }
   ],
   "source": [
    "num1 = input(\"enter your first no\")\n",
    "num2 = input(\"enter your second no\")\n",
    "sum = float(num1) + float(num2) \n",
    "print(sum)"
   ]
  },
  {
   "cell_type": "code",
   "execution_count": 11,
   "id": "307cff8f",
   "metadata": {},
   "outputs": [
    {
     "name": "stdout",
     "output_type": "stream",
     "text": [
      "enter your no 10\n",
      "enter your no 5\n",
      "5.0\n"
     ]
    }
   ],
   "source": [
    "    num1 = input(\"enter your no \")\n",
    "    num2= input (\"enter your no \")\n",
    "    sum = float(num1)- float(num2)\n",
    "    print(sum)"
   ]
  },
  {
   "cell_type": "code",
   "execution_count": 12,
   "id": "7da76378",
   "metadata": {},
   "outputs": [
    {
     "name": "stdout",
     "output_type": "stream",
     "text": [
      "enter your no 10\n",
      "enter your no 5\n",
      "2.0\n"
     ]
    }
   ],
   "source": [
    "    num1 = input(\"enter your no \")\n",
    "    num2= input (\"enter your no \")\n",
    "    sum = float(num1) /float(num2)\n",
    "    print(sum)"
   ]
  },
  {
   "cell_type": "markdown",
   "id": "5acdd7f8",
   "metadata": {},
   "source": [
    "# 3. Write a Python program to find the area of a triangle?"
   ]
  },
  {
   "cell_type": "markdown",
   "id": "6ed171b5",
   "metadata": {},
   "source": [
    "# formula (Area of a triangle = (s*(s-a)*(s-b)*(s-c))-1/2)"
   ]
  },
  {
   "cell_type": "code",
   "execution_count": 14,
   "id": "430d3554",
   "metadata": {},
   "outputs": [
    {
     "name": "stdout",
     "output_type": "stream",
     "text": [
      "enter your first side15\n",
      "enter your second side 25\n",
      "enter your thired side36\n",
      "The area of the triangle is 150.74\n"
     ]
    }
   ],
   "source": [
    "a = float(input(\"enter your first side\"))\n",
    "b = float(input(\"enter your second side \"))\n",
    "c = float(input(\"enter your thired side\"))\n",
    "\n",
    "s = (a+b+c)/ 2\n",
    "\n",
    "area = (s*(s-a)*(s-b)*(s-c)) ** 0.5  \n",
    "\n",
    "print('The area of the triangle is %0.2f' %area) "
   ]
  },
  {
   "cell_type": "markdown",
   "id": "8a35896b",
   "metadata": {},
   "source": [
    "# Write a Python program to swap two variables?"
   ]
  },
  {
   "cell_type": "code",
   "execution_count": 4,
   "id": "843f0314",
   "metadata": {},
   "outputs": [
    {
     "name": "stdout",
     "output_type": "stream",
     "text": [
      "The value of x after swapping: 7\n",
      "The value of y after swapping: 5\n"
     ]
    }
   ],
   "source": [
    "x = 5\n",
    "y = 7\n",
    "z = x\n",
    "x = y\n",
    "y = z\n",
    "\n",
    "print('The value of x after swapping: {}'.format(x))\n",
    "print('The value of y after swapping: {}'.format(y))\n"
   ]
  },
  {
   "cell_type": "code",
   "execution_count": 6,
   "id": "3deafad7",
   "metadata": {},
   "outputs": [
    {
     "name": "stdout",
     "output_type": "stream",
     "text": [
      "50\n"
     ]
    }
   ],
   "source": [
    "a = 5\n",
    "b = 10\n",
    "c = a*b\n",
    "print(c)"
   ]
  },
  {
   "cell_type": "code",
   "execution_count": 3,
   "id": "618e5bba",
   "metadata": {},
   "outputs": [
    {
     "name": "stdout",
     "output_type": "stream",
     "text": [
      "5\n"
     ]
    }
   ],
   "source": [
    "import random\n",
    "print(random.randint(0,9))"
   ]
  },
  {
   "cell_type": "code",
   "execution_count": 4,
   "id": "3c6a6a77",
   "metadata": {},
   "outputs": [],
   "source": [
    "n = random.random()"
   ]
  },
  {
   "cell_type": "code",
   "execution_count": 5,
   "id": "baf72886",
   "metadata": {},
   "outputs": [
    {
     "data": {
      "text/plain": [
       "0.04407701837733213"
      ]
     },
     "execution_count": 5,
     "metadata": {},
     "output_type": "execute_result"
    }
   ],
   "source": [
    "n"
   ]
  },
  {
   "cell_type": "code",
   "execution_count": 6,
   "id": "92fe3c14",
   "metadata": {},
   "outputs": [
    {
     "data": {
      "text/plain": [
       "0.04407701837733213"
      ]
     },
     "execution_count": 6,
     "metadata": {},
     "output_type": "execute_result"
    }
   ],
   "source": [
    "n"
   ]
  },
  {
   "cell_type": "code",
   "execution_count": null,
   "id": "5a061952",
   "metadata": {},
   "outputs": [],
   "source": []
  },
  {
   "cell_type": "code",
   "execution_count": null,
   "id": "13e514e2",
   "metadata": {},
   "outputs": [],
   "source": []
  }
 ],
 "metadata": {
  "kernelspec": {
   "display_name": "Python 3 (ipykernel)",
   "language": "python",
   "name": "python3"
  },
  "language_info": {
   "codemirror_mode": {
    "name": "ipython",
    "version": 3
   },
   "file_extension": ".py",
   "mimetype": "text/x-python",
   "name": "python",
   "nbconvert_exporter": "python",
   "pygments_lexer": "ipython3",
   "version": "3.9.12"
  }
 },
 "nbformat": 4,
 "nbformat_minor": 5
}
